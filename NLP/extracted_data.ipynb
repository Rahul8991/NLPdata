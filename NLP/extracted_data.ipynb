{
 "cells": [
  {
   "cell_type": "code",
   "execution_count": 7,
   "metadata": {},
   "outputs": [],
   "source": [
    "import pandas as pd\n",
    "import numpy as np"
   ]
  },
  {
   "cell_type": "code",
   "execution_count": 2,
   "metadata": {},
   "outputs": [],
   "source": [
    "country_df=pd.read_csv('./raw_data/country.csv')\n",
    "name_df=pd.read_csv('./raw_data/name.csv')\n",
    "negative_word_df=pd.read_csv('./raw_data/negative_word.csv')\n",
    "positive_word_df=pd.read_csv('./raw_data/positive_word.csv')\n",
    "verb_df=pd.read_csv('./raw_data/verb.csv')\n",
    "drug_df=pd.read_csv('./raw_data/drug.csv')"
   ]
  },
  {
   "cell_type": "markdown",
   "metadata": {},
   "source": [
    "## drug_a"
   ]
  },
  {
   "cell_type": "code",
   "execution_count": 3,
   "metadata": {},
   "outputs": [],
   "source": [
    "np=np.array(drug_df['drug'])"
   ]
  },
  {
   "cell_type": "code",
   "execution_count": 1,
   "metadata": {},
   "outputs": [
    {
     "ename": "NameError",
     "evalue": "name 'np' is not defined",
     "output_type": "error",
     "traceback": [
      "\u001b[1;31m---------------------------------------------------------------------------\u001b[0m",
      "\u001b[1;31mNameError\u001b[0m                                 Traceback (most recent call last)",
      "\u001b[1;32m~\\AppData\\Local\\Temp/ipykernel_10844/3533443153.py\u001b[0m in \u001b[0;36m<module>\u001b[1;34m\u001b[0m\n\u001b[0;32m      1\u001b[0m \u001b[0mdrug_a\u001b[0m\u001b[1;33m=\u001b[0m\u001b[1;33m[\u001b[0m\u001b[1;33m]\u001b[0m\u001b[1;33m\u001b[0m\u001b[1;33m\u001b[0m\u001b[0m\n\u001b[1;32m----> 2\u001b[1;33m \u001b[1;32mfor\u001b[0m \u001b[0mi\u001b[0m \u001b[1;32min\u001b[0m \u001b[0mrange\u001b[0m\u001b[1;33m(\u001b[0m\u001b[0mlen\u001b[0m\u001b[1;33m(\u001b[0m\u001b[0mnp\u001b[0m\u001b[1;33m)\u001b[0m\u001b[1;33m)\u001b[0m\u001b[1;33m:\u001b[0m\u001b[1;33m\u001b[0m\u001b[1;33m\u001b[0m\u001b[0m\n\u001b[0m\u001b[0;32m      3\u001b[0m     \u001b[0mdrug_a\u001b[0m\u001b[1;33m.\u001b[0m\u001b[0mappend\u001b[0m\u001b[1;33m(\u001b[0m\u001b[0mnp\u001b[0m\u001b[1;33m[\u001b[0m\u001b[0mi\u001b[0m\u001b[1;33m]\u001b[0m\u001b[1;33m[\u001b[0m\u001b[1;36m3\u001b[0m\u001b[1;33m:\u001b[0m\u001b[1;33m]\u001b[0m\u001b[1;33m.\u001b[0m\u001b[0mstrip\u001b[0m\u001b[1;33m(\u001b[0m\u001b[1;34m'.'\u001b[0m\u001b[1;33m)\u001b[0m\u001b[1;33m)\u001b[0m\u001b[1;33m\u001b[0m\u001b[1;33m\u001b[0m\u001b[0m\n\u001b[0;32m      4\u001b[0m \u001b[0mdrug_a\u001b[0m\u001b[1;33m=\u001b[0m\u001b[1;33m[\u001b[0m\u001b[0mj\u001b[0m\u001b[1;33m.\u001b[0m\u001b[0mstrip\u001b[0m\u001b[1;33m(\u001b[0m\u001b[1;33m)\u001b[0m \u001b[1;32mfor\u001b[0m \u001b[0mj\u001b[0m \u001b[1;32min\u001b[0m \u001b[0mdrug_a\u001b[0m\u001b[1;33m]\u001b[0m\u001b[1;33m\u001b[0m\u001b[1;33m\u001b[0m\u001b[0m\n\u001b[0;32m      5\u001b[0m \u001b[0mdrug_a\u001b[0m\u001b[1;33m\u001b[0m\u001b[1;33m\u001b[0m\u001b[0m\n",
      "\u001b[1;31mNameError\u001b[0m: name 'np' is not defined"
     ]
    }
   ],
   "source": [
    "drug_a=[]\n",
    "for i in range(len(np)):\n",
    "    drug_a.append(np[i][3:].strip('.'))\n",
    "drug_a=[j.strip() for j in drug_a]\n",
    "drug_a"
   ]
  },
  {
   "cell_type": "markdown",
   "metadata": {},
   "source": [
    "## verb_a"
   ]
  },
  {
   "cell_type": "code",
   "execution_count": 8,
   "metadata": {},
   "outputs": [],
   "source": [
    "verb_a=np.array(verb_df.iloc[0:,0])"
   ]
  },
  {
   "cell_type": "code",
   "execution_count": 9,
   "metadata": {},
   "outputs": [
    {
     "data": {
      "text/plain": [
       "array(['append', 'add', 'put', 'decode', 'write', 'get', 'access',\n",
       "       'create', 'read', 'value', 'size', 'remove', 'fill', 'check',\n",
       "       'draw', 'do', 'char', 'print', 'close', 'paint', 'start', 'parse',\n",
       "       'clone', 'trace', 'equal', 'update', 'index', 'contain',\n",
       "       'position', 'debug', 'handle', 'reset', 'type', 'report', 'end',\n",
       "       'find', 'clear', 'load', 'line', 'log', 'format', 'make', 'class',\n",
       "       'encode', 'fire', 'insert', 'visit', 'dispose', 'translate',\n",
       "       'compare', 'process', 'copy', 'set', 'intern', 'register', 'match',\n",
       "       'default', 'install', 'invoke', 'flush', 'ensure', 'replace',\n",
       "       'skip', 'repaint', 'last', 'notify', 'convert', 'limit', 'trim',\n",
       "       'pop', 'peek', 'send', 'unlock', 'throw', 'push', 'fine', 'long',\n",
       "       'validate', 'localize', 'move', 'array', 'resolve', 'string',\n",
       "       'scan', 'open', 'wrap', 'post', 'name', 'mark', 'emit',\n",
       "       'initialize', 'select', 'need', 'execute', 'key', 'curve', 'avail',\n",
       "       'run', 'code', 'remain', 'calculate', 'lock', 'normalize', 'can',\n",
       "       'double', 'wait', 'release', 'bind', 'map', 'store', 'list',\n",
       "       'request', 'delete', 'compile', 'exist', 'define', 'return',\n",
       "       'invalidate', 'extract', 'compute', 'accept', 'connect', 'show',\n",
       "       'message', 'transform', 'warn', 'sort', 'generate', 'traverse',\n",
       "       'allocate', 'mouse', 'adjust', 'count', 'free', 'resize', 'stop',\n",
       "       'invalid', 'begin', 'apply', 'build', 'verify', 'float',\n",
       "       'dispatch', 'empty', 'expand', 'interrupt', 'use', 'synchronize',\n",
       "       'target', 'consume', 'sub', 'call', 'dump', 'destroy', 'finish',\n",
       "       'merge', 'object', 'sever', 'exit', 'marshal', 'cancel', 'fetch',\n",
       "       'scale', 'fix', 'fail', 'round', 'indent', 'derive', 'output',\n",
       "       'change', 'expect', 'floor', 'search', 'short', 'evaluate',\n",
       "       'intersect', 'test', 'display', 'configure', 'declare', 'orb',\n",
       "       'split', 'swap', 'except', 'prefer', 'export', 'serialize',\n",
       "       'scroll', 'transport', 'model', 'adapt', 'prepare', 'try', 'clean',\n",
       "       'zero', 'focus', 'hide', 'locate', 'poll', 'window', 'save',\n",
       "       'reverse', 'enable', 'sleep', 'escape', 'sync', 'narrow',\n",
       "       'duplicate', 'activate', 'acquire', 'signal', 'hash', 'digest',\n",
       "       'strip', 'co', 'parent', 'seek', 'advance', 'clip', 'compact',\n",
       "       'align', 'construct', 'x', 'rotate', 'stack', 'comment', 'number',\n",
       "       'look', 'unwrap', 'multiply', 'address', 'support', 'child',\n",
       "       'walk', 'detach', 'block', 'hex', 'word', 'modify', 'action',\n",
       "       'compose', 'group', 'cache', 'subtract', 'flip', 'port',\n",
       "       'transfer', 'restore', 'base', 'decrypt', 'query', 'disconnect',\n",
       "       'content', 'drag', 'image', 'abort', 'obtain', 'assert', 'rebind',\n",
       "       'cast', 'enter', 'complete', 'filter', 'attribute', 'quote',\n",
       "       'forward', 'break', 'deep', 'state', 'assign', 'inflate', 'input',\n",
       "       'choose', 'ca', 'opt', 'reshape', 'provide', 'row', 'rename',\n",
       "       'divide', 'range', 'back', 'await', 'encrypt', 'recycle', 'prop',\n",
       "       'drop', 'view', 'retrieve', 'receive', 'order', 'shift', 'point',\n",
       "       'import', 'grow', 'constrain', 'part', 'flag', 'follow', 'unbind',\n",
       "       'include', 'schedule', 'file', 'park', 'say', 'high', 'record',\n",
       "       'fast', 'link', 'confound', 'instantiate', 'bound', 'complement',\n",
       "       'override', 'embed', 'hold', 'disable', 'populate', 'pack', 'sin',\n",
       "       'collapse', 'perform', 'join', 'service', 'full', 'study',\n",
       "       'supplement', 'low', 'offer', 'retain', 'color', 'share', 'commit',\n",
       "       'hit', 'deactivate', 'head', 'sign', 'take', 'tail', 'fit',\n",
       "       'render', 'style', 'de', 'result', 'increase', 'trail', 'tree',\n",
       "       'allow', 'sanitize', 'lead', 'capitalize', 'drain', 'reference',\n",
       "       'persist', 'terminate', 'distance', 'reduce', 'edit', 'grab',\n",
       "       'reject', 'enumerate', 'fragment', 'queue', 'quick', 'instance',\n",
       "       'continue', 'negate', 'accumulate', 'inset', 'dim', 'disambiguate',\n",
       "       'recalculate', 'ready', 'finalize', 'right', 'mask', 'attach',\n",
       "       'refresh', 'exclude', 'precis', 'differ', 'navigate', 'decompose',\n",
       "       'collect', 'concatenate', 'play', 'yield', 'bootstrap', 'switch',\n",
       "       'implement', 'kill', 'abandon', 'purge', 'have', 'undo', 'seal',\n",
       "       'prefix', 'expunge', 'restart', 'page', 'descend', 'mangle',\n",
       "       'stub', 'guess', 'solve', 'extend', 'attempt', 'slice', 'redo',\n",
       "       'tag', 'unpack', 'track', 'document', 'freeze', 'submit', 'toggle',\n",
       "       'leave', 'function', 'operate', 'pad', 'justify', 'refer', 'force',\n",
       "       'pump', 'phase', 'cant', 'coerce', 'wrong', 'broadcast',\n",
       "       'synthesize', 'source', 'rehash', 'custom', 'analyze', 'publish',\n",
       "       'out', 'deflate', 'channel', 'optimize', 'package', 'stream',\n",
       "       'note', 'echo', 'character', 'table', 'bridge', 'bean',\n",
       "       'remainder', 'center', 'lower', 'self', 'interest', 'clamp',\n",
       "       'damage', 'network', 'materialize', 'determine', 'overlap',\n",
       "       'sequence', 'shut', 'symbolize', 'initial', 'recover', 'trust',\n",
       "       'tick', 'wake', 'leaf', 'date', 'sift', 'authenticate', 'tan',\n",
       "       'incarnate', 'own', 'field', 'reconstruct', 'circumvent',\n",
       "       'classify', 'go', 'step', 'press', 'unload', 'pin', 'buffer',\n",
       "       'etherealize', 'blur', 'initialise', 'omit', 'command', 'negative',\n",
       "       'combine', 'coalesce', 'customize', 'slash', 'resume', 'stress',\n",
       "       'download', 'fault', 'flavor', 'refine', 'reposition', 'patch',\n",
       "       'sum', 'segment', 'help', 'inject', 'produce', 'partition',\n",
       "       'canonize', 'single', 'unmask', 'decrease', 'offset', 'infer',\n",
       "       'reconcile', 'square', 'bomb', 'launch', 'dot', 'pass', 'reclaim',\n",
       "       'shape', 'reuse', 'minimize', 'compress', 'require', 'propagate',\n",
       "       'top', 'truncate', 'one', 'initiate', 'home', 'root', 'miss',\n",
       "       'associate', 'ad', 'suspend', 'prompt', 'flatten', 'frame', 'soap',\n",
       "       'delegate', 'shallow', 'pattern', 'aggregate', 'effect', 'prune',\n",
       "       'found', 'assure', 'revert', 'power', 'rebuild', 'capture',\n",
       "       'interpret', 'deliver', 'refill', 'reload', 'roll', 'invert',\n",
       "       'script', 'simulate', 'delay', 'linger', 'chunk', 'browse', 'die',\n",
       "       'examine', 'grant', 'keep', 'arrange', 'halt', 'up', 'relativize',\n",
       "       'shed', 'sieve', 'span', 'expire', 'slot', 'control', 'subdivide',\n",
       "       'shuffle', 'fracture', 'posit', 'renew', 'canvas', 'migrate',\n",
       "       'profile', 'instruct', 'inquire', 'average', 'hint', 'correct',\n",
       "       'present', 'stamp', 'arc', 'decorate', 'tie', 'augment', 'down',\n",
       "       'transit', 'stuff', 'destruct', 'live', 'prime', 'by', 'trigger',\n",
       "       'cut', 'reply', 'approve', 'err', 'establish', 'enlarge', 'atom',\n",
       "       'scheme', 'identify', 'detect', 'explain', 'inherit', 'peep',\n",
       "       'label', 'describe', 'realize', 'insure', 'mute', 'iterate',\n",
       "       'tailor', 'bundle', 'structure', 'console', 'audit', 'replay',\n",
       "       'loop', 'unblock', 'rid', 'card', 'maximize', 'thread', 'shear',\n",
       "       'suffix', 'saturate', 'condition', 'ignore', 'host', 'cover',\n",
       "       'belong', 'environ', 'erase', 'suppress', 'closure', 'shrink',\n",
       "       'negotiate', 'latch', 'fork', 'total', 'burst', 'touch',\n",
       "       'paragraph', 'paste', 'unpin', 'author', 'repair', 'place',\n",
       "       'chase', 'revoke', 'progress', 'listen', 'annotate', 'instal',\n",
       "       'understand', 'blend', 'encompass', 'unfurl', 'sniff', 'abstract',\n",
       "       'concrete', 'reorder', 'swing', 'rewrite', 'pick', 'restrict',\n",
       "       'bare', 're', 'observe', 'convolve', 'monitor', 'emulate',\n",
       "       'remember', 'eliminate', 'organize', 'distribute', 'feed',\n",
       "       'exchange', 'ask', 'proceed', 'absorb', 'preserve', 'want',\n",
       "       'develop', 'beep', 'redefine', 'form', 'fold', 'mail', 'reify',\n",
       "       'dirty', 'depopulate', 'work', 'express', 'interpolate', 'gather',\n",
       "       'major', 'white', 'shadow', 'ticket', 'branch', 'calendar',\n",
       "       'accommodate', 'internalize', 'reason', 'resurrect', 'overflow',\n",
       "       'hook', 'peer', 'obstruct', 'will', 'repeat', 'hop', 'reopen',\n",
       "       'unbox', 'recreate', 'flat', 'throttle', 'decide', 'unfold',\n",
       "       'subsume', 'substitute', 'guarantee', 'spread', 'band', 'consist',\n",
       "       'reconvert', 'discard', 'bracket', 'cross', 'like', 'hurry',\n",
       "       'assemble', 'dismiss', 'spool', 'micro', 'probe', 'protect',\n",
       "       'depend', 'reflect', 'cycle', 'zone', 'reschedule', 'sock',\n",
       "       'categorise', 'promote', 'resort', 'case', 'manifest', 'intercept',\n",
       "       'anchor', 'colorize', 'win', 'relinquish', 'program', 'box',\n",
       "       'transplant', 'redirect', 'cosh', 'spin', 'conclude', 'plug',\n",
       "       'reread', 'adopt', 'o', 'reserve', 'indicate', 'tile', 'jar',\n",
       "       'simplify', 'mime', 'predicate', 'raise', 'reconstitute',\n",
       "       'introspect', 'pause', 'boot', 'detail', 'subject', 'mix', 'quit',\n",
       "       'maintain', 'see', 'transact', 'theme', 'prioritize', 'plain',\n",
       "       'ascend', 'time', 'tally'], dtype=object)"
      ]
     },
     "execution_count": 9,
     "metadata": {},
     "output_type": "execute_result"
    }
   ],
   "source": [
    "verb_a"
   ]
  },
  {
   "cell_type": "markdown",
   "metadata": {},
   "source": [
    "## positive_a"
   ]
  },
  {
   "cell_type": "code",
   "execution_count": 10,
   "metadata": {},
   "outputs": [
    {
     "data": {
      "text/html": [
       "<div>\n",
       "<style scoped>\n",
       "    .dataframe tbody tr th:only-of-type {\n",
       "        vertical-align: middle;\n",
       "    }\n",
       "\n",
       "    .dataframe tbody tr th {\n",
       "        vertical-align: top;\n",
       "    }\n",
       "\n",
       "    .dataframe thead th {\n",
       "        text-align: right;\n",
       "    }\n",
       "</style>\n",
       "<table border=\"1\" class=\"dataframe\">\n",
       "  <thead>\n",
       "    <tr style=\"text-align: right;\">\n",
       "      <th></th>\n",
       "      <th>positive words</th>\n",
       "    </tr>\n",
       "  </thead>\n",
       "  <tbody>\n",
       "    <tr>\n",
       "      <th>0</th>\n",
       "      <td>a+</td>\n",
       "    </tr>\n",
       "    <tr>\n",
       "      <th>1</th>\n",
       "      <td>abound</td>\n",
       "    </tr>\n",
       "    <tr>\n",
       "      <th>2</th>\n",
       "      <td>abounds</td>\n",
       "    </tr>\n",
       "    <tr>\n",
       "      <th>3</th>\n",
       "      <td>abundance</td>\n",
       "    </tr>\n",
       "    <tr>\n",
       "      <th>4</th>\n",
       "      <td>abundant</td>\n",
       "    </tr>\n",
       "    <tr>\n",
       "      <th>...</th>\n",
       "      <td>...</td>\n",
       "    </tr>\n",
       "    <tr>\n",
       "      <th>2001</th>\n",
       "      <td>youthful</td>\n",
       "    </tr>\n",
       "    <tr>\n",
       "      <th>2002</th>\n",
       "      <td>zeal</td>\n",
       "    </tr>\n",
       "    <tr>\n",
       "      <th>2003</th>\n",
       "      <td>zenith</td>\n",
       "    </tr>\n",
       "    <tr>\n",
       "      <th>2004</th>\n",
       "      <td>zest</td>\n",
       "    </tr>\n",
       "    <tr>\n",
       "      <th>2005</th>\n",
       "      <td>zippy</td>\n",
       "    </tr>\n",
       "  </tbody>\n",
       "</table>\n",
       "<p>2006 rows × 1 columns</p>\n",
       "</div>"
      ],
      "text/plain": [
       "     positive words\n",
       "0                a+\n",
       "1            abound\n",
       "2           abounds\n",
       "3         abundance\n",
       "4          abundant\n",
       "...             ...\n",
       "2001       youthful\n",
       "2002           zeal\n",
       "2003         zenith\n",
       "2004           zest\n",
       "2005          zippy\n",
       "\n",
       "[2006 rows x 1 columns]"
      ]
     },
     "execution_count": 10,
     "metadata": {},
     "output_type": "execute_result"
    }
   ],
   "source": [
    "positive_word_df"
   ]
  },
  {
   "cell_type": "code",
   "execution_count": 11,
   "metadata": {},
   "outputs": [
    {
     "data": {
      "text/plain": [
       "array(['a+', 'abound', 'abounds', ..., 'zenith', 'zest', 'zippy'],\n",
       "      dtype=object)"
      ]
     },
     "execution_count": 11,
     "metadata": {},
     "output_type": "execute_result"
    }
   ],
   "source": [
    "positive_a=np.array(positive_word_df.iloc[0:,0])\n",
    "positive_a"
   ]
  },
  {
   "cell_type": "markdown",
   "metadata": {},
   "source": [
    "## negative_a"
   ]
  },
  {
   "cell_type": "code",
   "execution_count": 12,
   "metadata": {},
   "outputs": [
    {
     "data": {
      "text/plain": [
       "array(['2-faced', '2-faces', 'abnormal', ..., 'zealous', 'zealously',\n",
       "       'zombie'], dtype=object)"
      ]
     },
     "execution_count": 12,
     "metadata": {},
     "output_type": "execute_result"
    }
   ],
   "source": [
    "negative_a=np.array(negative_word_df.iloc[0:,0])\n",
    "negative_a"
   ]
  },
  {
   "cell_type": "markdown",
   "metadata": {},
   "source": [
    "## name_a"
   ]
  },
  {
   "cell_type": "code",
   "execution_count": 36,
   "metadata": {},
   "outputs": [
    {
     "data": {
      "text/plain": [
       "array(['John', 'William', 'James', ..., 'Kenley', 'Sloane', 'Elianna'],\n",
       "      dtype=object)"
      ]
     },
     "execution_count": 36,
     "metadata": {},
     "output_type": "execute_result"
    }
   ],
   "source": [
    "name_a=np.array(name_df.iloc[0:,1])\n",
    "name_a"
   ]
  },
  {
   "cell_type": "markdown",
   "metadata": {},
   "source": [
    "## country_a"
   ]
  },
  {
   "cell_type": "code",
   "execution_count": 14,
   "metadata": {},
   "outputs": [
    {
     "data": {
      "text/plain": [
       "array(['Andorra', 'United Arab Emirates', 'Afghanistan',\n",
       "       'Antigua and Barbuda', 'Anguilla', 'Albania', 'Armenia',\n",
       "       'Netherlands Antilles', 'Angola', 'Antarctica', 'Argentina',\n",
       "       'American Samoa', 'Austria', 'Australia', 'Aruba', 'Azerbaijan',\n",
       "       'Bosnia and Herzegovina', 'Barbados', 'Bangladesh', 'Belgium',\n",
       "       'Burkina Faso', 'Bulgaria', 'Bahrain', 'Burundi', 'Benin',\n",
       "       'Bermuda', 'Brunei', 'Bolivia', 'Brazil', 'Bahamas', 'Bhutan',\n",
       "       'Bouvet Island', 'Botswana', 'Belarus', 'Belize', 'Canada',\n",
       "       'Cocos [Keeling] Islands', 'Congo [DRC]',\n",
       "       'Central African Republic', 'Congo [Republic]', 'Switzerland',\n",
       "       \"Côte d'Ivoire\", 'Cook Islands', 'Chile', 'Cameroon', 'China',\n",
       "       'Colombia', 'Costa Rica', 'Cuba', 'Cape Verde', 'Christmas Island',\n",
       "       'Cyprus', 'Czech Republic', 'Germany', 'Djibouti', 'Denmark',\n",
       "       'Dominica', 'Dominican Republic', 'Algeria', 'Ecuador', 'Estonia',\n",
       "       'Egypt', 'Western Sahara', 'Eritrea', 'Spain', 'Ethiopia',\n",
       "       'Finland', 'Fiji', 'Falkland Islands [Islas Malvinas]',\n",
       "       'Micronesia', 'Faroe Islands', 'France', 'Gabon', 'United Kingdom',\n",
       "       'Grenada', 'Georgia', 'French Guiana', 'Guernsey', 'Ghana',\n",
       "       'Gibraltar', 'Greenland', 'Gambia', 'Guinea', 'Guadeloupe',\n",
       "       'Equatorial Guinea', 'Greece',\n",
       "       'South Georgia and the South Sandwich Islands', 'Guatemala',\n",
       "       'Guam', 'Guinea-Bissau', 'Guyana', 'Gaza Strip', 'Hong Kong',\n",
       "       'Heard Island and McDonald Islands', 'Honduras', 'Croatia',\n",
       "       'Haiti', 'Hungary', 'Indonesia', 'Ireland', 'Israel',\n",
       "       'Isle of Man', 'India', 'British Indian Ocean Territory', 'Iraq',\n",
       "       'Iran', 'Iceland', 'Italy', 'Jersey', 'Jamaica', 'Jordan', 'Japan',\n",
       "       'Kenya', 'Kyrgyzstan', 'Cambodia', 'Kiribati', 'Comoros',\n",
       "       'Saint Kitts and Nevis', 'North Korea', 'South Korea', 'Kuwait',\n",
       "       'Cayman Islands', 'Kazakhstan', 'Laos', 'Lebanon', 'Saint Lucia',\n",
       "       'Liechtenstein', 'Sri Lanka', 'Liberia', 'Lesotho', 'Lithuania',\n",
       "       'Luxembourg', 'Latvia', 'Libya', 'Morocco', 'Monaco', 'Moldova',\n",
       "       'Montenegro', 'Madagascar', 'Marshall Islands',\n",
       "       'Macedonia [FYROM]', 'Mali', 'Myanmar [Burma]', 'Mongolia',\n",
       "       'Macau', 'Northern Mariana Islands', 'Martinique', 'Mauritania',\n",
       "       'Montserrat', 'Malta', 'Mauritius', 'Maldives', 'Malawi', 'Mexico',\n",
       "       'Malaysia', 'Mozambique', 'Namibia', 'New Caledonia', 'Niger',\n",
       "       'Norfolk Island', 'Nigeria', 'Nicaragua', 'Netherlands', 'Norway',\n",
       "       'Nepal', 'Nauru', 'Niue', 'New Zealand', 'Oman', 'Panama', 'Peru',\n",
       "       'French Polynesia', 'Papua New Guinea', 'Philippines', 'Pakistan',\n",
       "       'Poland', 'Saint Pierre and Miquelon', 'Pitcairn Islands',\n",
       "       'Puerto Rico', 'Palestinian Territories', 'Portugal', 'Palau',\n",
       "       'Paraguay', 'Qatar', 'Réunion', 'Romania', 'Serbia', 'Russia',\n",
       "       'Rwanda', 'Saudi Arabia', 'Solomon Islands', 'Seychelles', 'Sudan',\n",
       "       'Sweden', 'Singapore', 'Saint Helena', 'Slovenia',\n",
       "       'Svalbard and Jan Mayen', 'Slovakia', 'Sierra Leone', 'San Marino',\n",
       "       'Senegal', 'Somalia', 'Suriname', 'São Tomé and Príncipe',\n",
       "       'El Salvador', 'Syria', 'Swaziland', 'Turks and Caicos Islands',\n",
       "       'Chad', 'French Southern Territories', 'Togo', 'Thailand',\n",
       "       'Tajikistan', 'Tokelau', 'Timor-Leste', 'Turkmenistan', 'Tunisia',\n",
       "       'Tonga', 'Turkey', 'Trinidad and Tobago', 'Tuvalu', 'Taiwan',\n",
       "       'Tanzania', 'Ukraine', 'Uganda', 'U.S. Minor Outlying Islands',\n",
       "       'United States', 'Uruguay', 'Uzbekistan', 'Vatican City',\n",
       "       'Saint Vincent and the Grenadines', 'Venezuela',\n",
       "       'British Virgin Islands', 'U.S. Virgin Islands', 'Vietnam',\n",
       "       'Vanuatu', 'Wallis and Futuna', 'Samoa', 'Kosovo', 'Yemen',\n",
       "       'Mayotte', 'South Africa', 'Zambia', 'Zimbabwe'], dtype=object)"
      ]
     },
     "execution_count": 14,
     "metadata": {},
     "output_type": "execute_result"
    }
   ],
   "source": [
    "country_a=np.array(country_df.iloc[0:,3])\n",
    "country_a"
   ]
  },
  {
   "cell_type": "code",
   "execution_count": 58,
   "metadata": {},
   "outputs": [],
   "source": [
    "sentence='he is a very lean big arabi man whose name is john jacob and consumes aspirine. It has been a long winter since december and the drug is zinc sulfate'"
   ]
  },
  {
   "cell_type": "code",
   "execution_count": 63,
   "metadata": {},
   "outputs": [
    {
     "data": {
      "text/plain": [
       "['he',\n",
       " 'is',\n",
       " 'a',\n",
       " 'very',\n",
       " 'lean',\n",
       " 'big',\n",
       " 'arabi',\n",
       " 'man',\n",
       " 'whose',\n",
       " 'name',\n",
       " 'is',\n",
       " 'john',\n",
       " 'jacob',\n",
       " 'and',\n",
       " 'consumes',\n",
       " 'aspirine.',\n",
       " 'It',\n",
       " 'has',\n",
       " 'been',\n",
       " 'a',\n",
       " 'long',\n",
       " 'winter',\n",
       " 'since',\n",
       " 'december',\n",
       " 'and',\n",
       " 'the',\n",
       " 'drug',\n",
       " 'is',\n",
       " 'zinc',\n",
       " 'sulfate']"
      ]
     },
     "execution_count": 63,
     "metadata": {},
     "output_type": "execute_result"
    }
   ],
   "source": [
    "sentence.split()"
   ]
  },
  {
   "cell_type": "code",
   "execution_count": 59,
   "metadata": {},
   "outputs": [],
   "source": [
    "json={\n",
    "    \"person\":[],\n",
    "    \"country\":[],\n",
    "    \"drug\":[],\n",
    "    \"negative\":[],\n",
    "    \"positive\":[],\n",
    "    \"verb\":[]\n",
    "}"
   ]
  },
  {
   "cell_type": "code",
   "execution_count": 60,
   "metadata": {},
   "outputs": [
    {
     "data": {
      "text/plain": [
       "[]"
      ]
     },
     "execution_count": 60,
     "metadata": {},
     "output_type": "execute_result"
    }
   ],
   "source": [
    "json[\"country\"]"
   ]
  },
  {
   "cell_type": "code",
   "execution_count": 61,
   "metadata": {},
   "outputs": [
    {
     "data": {
      "text/plain": [
       "['25% dextrose',\n",
       " '5-amino salicylic acid',\n",
       " '5-fluorouracil',\n",
       " 'acetazolamide',\n",
       " 'acetyl salicylic acid',\n",
       " 'acriflavin+glycerin',\n",
       " 'actinomycin d',\n",
       " 'activated charcoal',\n",
       " 'acyclovir',\n",
       " ' adenosine',\n",
       " ' adrenaline bitartrate',\n",
       " ' albendazole',\n",
       " ' albumin',\n",
       " ' allopurinol',\n",
       " ' alpha interferon',\n",
       " ' alprazolam',\n",
       " ' aluminium hydroxide + magnesium hydroxide',\n",
       " ' amikacin',\n",
       " ' amiodarone',\n",
       " ' amitriptyline',\n",
       " ' amlodipine',\n",
       " ' amoxicillin',\n",
       " ' amoxicillin+clavulinic acid',\n",
       " ' amphotericin b',\n",
       " ' ampicillin',\n",
       " ' anti-d immunoglobin (human)',\n",
       " ' antitetanus human immunoglobin',\n",
       " ' artesunate (to be used only in combination with sulfadoxine + pyrimethamine)',\n",
       " ' ascorbic acid',\n",
       " ' atenolol',\n",
       " ' atorvastatin',\n",
       " ' atracurium besylate',\n",
       " ' atropine sulphate',\n",
       " ' azathioprine',\n",
       " ' azithromycin',\n",
       " ' b.c.g vaccine',\n",
       " ' barium sulphate',\n",
       " ' beclomethasone dipropionate',\n",
       " ' benzathine benzylpenicillin',\n",
       " ' benzoin compound',\n",
       " ' benzyl benzoate',\n",
       " ' betamethasone',\n",
       " ' betamethasone dipropionate',\n",
       " ' betaxolol hydrochloride',\n",
       " ' bisacodyl',\n",
       " ' bleaching powder',\n",
       " ' bleomycin',\n",
       " ' bromocriptine mesylate',\n",
       " ' bupivacaine hydrochloride',\n",
       " ' busulphan',\n",
       " ' calamine',\n",
       " ' calcium carbonate',\n",
       " ' calcium gluconate',\n",
       " ' calcium ipodate',\n",
       " ' carbamazepine',\n",
       " ' carbimazole',\n",
       " ' carboplatin',\n",
       " ' cefixime',\n",
       " ' cefotaxime',\n",
       " ' ceftazidime',\n",
       " ' ceftriaxone',\n",
       " ' cephalexin',\n",
       " ' cetrimide',\n",
       " ' cetrizine',\n",
       " ' chlorambucil',\n",
       " ' chloramphenicol',\n",
       " ' chlorhexidine',\n",
       " ' chloroquine phosphate',\n",
       " ' chlorpheniramine maleate',\n",
       " ' chlorpromazine hydrochloride',\n",
       " ' ciprofloxacin hydrochloride',\n",
       " ' cisplatin',\n",
       " ' clindamycin',\n",
       " ' clofazimine',\n",
       " ' clomiphene citrate',\n",
       " ' clopidogrel',\n",
       " ' clotrimazole',\n",
       " ' cloxacillin',\n",
       " ' coal tar',\n",
       " ' codeine phosphate',\n",
       " ' colchicine',\n",
       " ' condoms',\n",
       " ' co-trimoxazole (trimethoprim + sulphamethoxazole)',\n",
       " ' cryoprecipitate',\n",
       " ' cyanocobalamin',\n",
       " ' cyclophosphamide',\n",
       " ' cyclosporine',\n",
       " ' cytosine arabinoside',\n",
       " ' d.p.t vaccine',\n",
       " ' dacarbazine',\n",
       " ' danazol',\n",
       " ' dapsone',\n",
       " ' daunorubicin',\n",
       " ' desferrioxamine mesylate',\n",
       " ' dexamethasone',\n",
       " ' dexchlorpheniramine maleate',\n",
       " ' dextran-40',\n",
       " ' dextran-70',\n",
       " ' dextromethorphan',\n",
       " ' diazepam',\n",
       " ' diclofenac',\n",
       " ' dicyclomine hydrochloride',\n",
       " ' didanosine',\n",
       " ' diethylcarbamazine citrate',\n",
       " ' digoxin',\n",
       " ' dihydroergotamine',\n",
       " ' diloxanide furoate',\n",
       " ' diltiazem',\n",
       " ' dimercaprol',\n",
       " ' diphtheria antitoxin',\n",
       " ' dithranol',\n",
       " ' dobutamine',\n",
       " ' domperidone',\n",
       " ' dopamine hydrochloride',\n",
       " ' doxorubicin',\n",
       " ' doxycycline',\n",
       " ' efavirenz',\n",
       " ' emla cream',\n",
       " ' enalapril maleate',\n",
       " ' enoxaparin',\n",
       " ' erythromycin estolate',\n",
       " ' esmolol',\n",
       " ' ethambutol',\n",
       " ' ether',\n",
       " ' ethinylestradiol',\n",
       " ' ethinylestradiol + levonorgesterol',\n",
       " ' ethinylestradiol + norethisterone',\n",
       " ' ethyl alcohol 70%',\n",
       " ' etoposide',\n",
       " ' factor ix complex (coagulation factors ii',\n",
       " ' factor viii concentrate',\n",
       " ' famotidine',\n",
       " ' fentanyl',\n",
       " ' ferrous salt',\n",
       " ' filgrastim',\n",
       " ' fluconazole',\n",
       " ' flumazenil',\n",
       " ' fluorescein',\n",
       " ' fluoxetine hydrochloride',\n",
       " ' flutamide',\n",
       " ' folic acid',\n",
       " ' folinic acid',\n",
       " ' formaldehyde ip',\n",
       " ' framycetin sulphate',\n",
       " ' fresh frozen plasma',\n",
       " ' furosemide',\n",
       " ' gemcitabine hydrochloride',\n",
       " ' gentamicin',\n",
       " ' gentian violet',\n",
       " ' glibenclamide',\n",
       " ' glucagon',\n",
       " ' glucose',\n",
       " ' glucose with sodium chloride',\n",
       " ' glutaraldehyde',\n",
       " ' glycerin',\n",
       " ' glyceryl trinitrate',\n",
       " ' griseofulvin',\n",
       " ' haloperidol',\n",
       " ' halothane with vaporizer',\n",
       " ' heparin sodium',\n",
       " ' hepatitis b vaccine',\n",
       " ' homatropine',\n",
       " ' hormone releasing iud',\n",
       " ' hydrochlorothiazide',\n",
       " ' hydrocortisone sodium succinate',\n",
       " ' hydrogen peroxide',\n",
       " ' hydroxychloroquine phosphate',\n",
       " ' hydroxyethyl starch (hetastarch)',\n",
       " ' hyoscine butyl bromide',\n",
       " ' ibuprofen',\n",
       " ' ifosfamide',\n",
       " ' imatinib',\n",
       " ' imipramine',\n",
       " ' indinavir',\n",
       " ' insulin injection(soluble)',\n",
       " ' intermediate acting(lente/nph insulin)',\n",
       " ' intraperitoneal dialysis solution',\n",
       " ' iodine',\n",
       " ' iopanoic acid',\n",
       " ' ipratropium bromide',\n",
       " ' iron dextran',\n",
       " ' isoflurane',\n",
       " ' isoniazid',\n",
       " ' isosorbide 5 mononitrate/dinitrate',\n",
       " ' ispaghula',\n",
       " ' iud containing copper',\n",
       " ' ketamine hydrochloride',\n",
       " ' l- asparaginase',\n",
       " ' lamivudine',\n",
       " ' lamivudine + nevirapine + stavudine',\n",
       " ' lamivudine + zidovudine',\n",
       " ' leflunomide',\n",
       " ' levodopa+ carbidopa',\n",
       " ' levothyroxine',\n",
       " ' lignocaine',\n",
       " ' lignocaine hydrochloride',\n",
       " ' lignocaine hydrochloride + adrenaline',\n",
       " ' lithium carbonate',\n",
       " ' lorazepam',\n",
       " ' losartan potassium',\n",
       " ' magnesium sulphate',\n",
       " ' mannitol',\n",
       " ' measles vaccine',\n",
       " ' medroxy progesterone acetate',\n",
       " ' mefloquine',\n",
       " ' meglumine iothalamate',\n",
       " ' meglumine iotroxate',\n",
       " ' melphalan',\n",
       " ' mercaptopurine',\n",
       " ' mesna',\n",
       " ' metformin',\n",
       " ' methotrexate',\n",
       " ' methyl cellulose',\n",
       " ' methyl ergometrine',\n",
       " ' methyldopa',\n",
       " ' methylprednisolone',\n",
       " ' methylrosanilinium chloride (gentian violet)',\n",
       " ' methylthioninium chloride (methylene blue)',\n",
       " ' metoclopramide',\n",
       " ' metoprolol',\n",
       " ' metronidazole',\n",
       " ' miconazole',\n",
       " ' midazolam',\n",
       " ' mifepristone',\n",
       " ' misoprostol',\n",
       " ' mitomycin-c',\n",
       " ' morphine sulphate',\n",
       " ' multivitamins (as per schedule v of drugs and cosmetics rules)',\n",
       " ' n/2 saline',\n",
       " ' n/5 saline',\n",
       " ' n-acetylcysteine',\n",
       " ' naloxone',\n",
       " ' nelfinavir',\n",
       " ' neomycin + bacitracin',\n",
       " ' neostigmine',\n",
       " ' nevirapine',\n",
       " ' nicotinamide',\n",
       " ' nifedipine',\n",
       " ' nitrofurantoin',\n",
       " ' nitrous oxide',\n",
       " ' norethisterone',\n",
       " ' normal saline',\n",
       " ' nystatin',\n",
       " ' ofloxacin',\n",
       " ' olanzapine',\n",
       " ' omeprazole',\n",
       " ' ondansetron',\n",
       " ' oral poliomyelitis vaccine (la)',\n",
       " ' oral rehydration salts',\n",
       " ' oxaliplatin',\n",
       " ' oxygen',\n",
       " ' oxytocin',\n",
       " ' paclitaxel',\n",
       " ' pantoprazole',\n",
       " ' paracetamol',\n",
       " ' penicillamine',\n",
       " ' pentamidine isothionate',\n",
       " ' permethrin',\n",
       " ' pheniramine maleate',\n",
       " ' phenobarbitone',\n",
       " ' phenylephrine',\n",
       " ' phenytoin sodium',\n",
       " ' phytomenadione',\n",
       " ' pilocarpine',\n",
       " ' piperazine',\n",
       " ' platelet rich plasma',\n",
       " ' polygeline',\n",
       " ' polyvalent antisnake venom',\n",
       " ' potassium chloride',\n",
       " ' potassium permanganate',\n",
       " ' povidone iodine',\n",
       " ' pralidoxime chloride(2-pam)',\n",
       " ' praziquantel',\n",
       " ' prednisolone',\n",
       " ' prednisolone acetate',\n",
       " ' prednisolone sodium phosphate',\n",
       " ' premix insulin 30:70 injection',\n",
       " ' primaquine',\n",
       " ' procainamide hydrochloride',\n",
       " ' procarbazine',\n",
       " ' promethazine',\n",
       " ' propofol',\n",
       " ' propranolol hydrochloride',\n",
       " ' propyliodone',\n",
       " ' protamine sulphate',\n",
       " ' pyrazinamide',\n",
       " ' pyridostigmine',\n",
       " ' pyridoxine',\n",
       " ' pyrimethamine',\n",
       " ' quinine sulphate',\n",
       " ' rabies immunoglobin',\n",
       " ' rabies vaccine',\n",
       " ' raloxifene',\n",
       " ' ranitidine',\n",
       " ' riboflavin',\n",
       " ' rifampicin',\n",
       " ' ringer lactate',\n",
       " ' ritonavir',\n",
       " ' salbutamol sulphate',\n",
       " ' salicylic acid',\n",
       " ' saquinavir',\n",
       " ' sevoflurane',\n",
       " ' silver sulphadiazine',\n",
       " ' sodium bicarbonate',\n",
       " ' sodium iothalamate',\n",
       " ' sodium meglumine diatrizoate',\n",
       " ' sodium nitrite',\n",
       " ' sodium nitroprusside',\n",
       " ' sodium stibogluconate',\n",
       " ' sodium thiosulphate',\n",
       " ' sodium valproate',\n",
       " ' specific antisnake venom',\n",
       " ' spironolactone',\n",
       " ' stavudine',\n",
       " ' stavudine+lamivudine',\n",
       " ' streptokinase',\n",
       " ' streptomycin sulphate',\n",
       " ' succinyl choline chloride',\n",
       " ' sulfadoxine + pyrimethamine',\n",
       " ' sulfasalazine',\n",
       " ' sulphacetamide sodium',\n",
       " ' sulphadiazine',\n",
       " ' tamoxifen citrate',\n",
       " ' terbutaline sulphate',\n",
       " ' testosterone',\n",
       " ' tetanus toxoid',\n",
       " ' tetracaine hydrochloride',\n",
       " ' thiamine',\n",
       " ' thiopentone sodium',\n",
       " ' timolol maleate',\n",
       " ' tramadol',\n",
       " ' trihexyphenidyl hydrochloride',\n",
       " ' tropicamide',\n",
       " ' tuberculin',\n",
       " ' urokinase',\n",
       " ' vancomycin hydrochloride',\n",
       " ' vecuronium',\n",
       " ' verapamil',\n",
       " ' vinblastine sulphate',\n",
       " ' vincristine',\n",
       " ' vitamin a',\n",
       " ' vitamin d (ergocalciferol)',\n",
       " ' warfarin sodium',\n",
       " ' water for injection',\n",
       " ' zidovudine',\n",
       " ' zidovudine+ lamivudine+ nevirapine',\n",
       " ' zinc oxide',\n",
       " ' zinc sulfate']"
      ]
     },
     "execution_count": 61,
     "metadata": {},
     "output_type": "execute_result"
    }
   ],
   "source": [
    "country_edit=[el.lower() for el in country_a]\n",
    "name_edit=[el.lower() for el in name_a]\n",
    "drug_edit=[el.lower() for el in drug_a]\n",
    "negative_edit=[el.lower() for el in negative_a]\n",
    "positive_edit=[el.lower() for el in positive_a]\n",
    "verb_edit=[el.lower() for el in verb_a]\n",
    "drug_edit"
   ]
  },
  {
   "cell_type": "code",
   "execution_count": 62,
   "metadata": {},
   "outputs": [
    {
     "data": {
      "text/plain": [
       "{'person': ['john', 'jacob', 'long', 'winter'],\n",
       " 'country': [],\n",
       " 'drug': [],\n",
       " 'negative': [],\n",
       " 'positive': ['lean'],\n",
       " 'verb': ['name']}"
      ]
     },
     "execution_count": 62,
     "metadata": {},
     "output_type": "execute_result"
    }
   ],
   "source": [
    "for word in sentence.split():\n",
    "    # print(word)\n",
    "    if(word in country_edit):\n",
    "        if(word not in json[\"country\"]):\n",
    "            json[\"country\"].append(word)\n",
    "            # print(country.split())\n",
    "    elif(word in name_edit and word not in json[\"person\"]):\n",
    "        json[\"person\"].append(word)\n",
    "    elif(word in drug_edit and word not in json[\"drug\"]):\n",
    "        json[\"drug\"].append(word)\n",
    "    elif(word in negative_edit and word not in json[\"negative\"]):\n",
    "        json[\"negative\"].append(word)\n",
    "    elif(word in positive_edit and word not in json[\"positive\"]):\n",
    "        json[\"positive\"].append(word)\n",
    "    elif(word in verb_edit and word not in json[\"verb\"]):\n",
    "        json[\"verb\"].append(word)                \n",
    "        \n",
    "        # print(found)\n",
    "# found  \n",
    "json"
   ]
  },
  {
   "cell_type": "code",
   "execution_count": 24,
   "metadata": {},
   "outputs": [],
   "source": [
    "from nltk import PorterStemmer,LancasterStemmer\n",
    "from nltk import tokenize,word_tokenize"
   ]
  },
  {
   "cell_type": "code",
   "execution_count": 25,
   "metadata": {},
   "outputs": [],
   "source": [
    "porter=PorterStemmer()"
   ]
  },
  {
   "cell_type": "code",
   "execution_count": 26,
   "metadata": {},
   "outputs": [],
   "source": [
    "token_words=word_tokenize(sentence)"
   ]
  },
  {
   "cell_type": "code",
   "execution_count": 27,
   "metadata": {},
   "outputs": [
    {
     "data": {
      "text/plain": [
       "['he',\n",
       " 'is',\n",
       " 'a',\n",
       " 'veri',\n",
       " 'lean',\n",
       " 'big',\n",
       " 'arabi',\n",
       " 'man',\n",
       " 'whose',\n",
       " 'name',\n",
       " 'is',\n",
       " 'john',\n",
       " 'jacob',\n",
       " 'and',\n",
       " 'consum',\n",
       " 'aspirin',\n",
       " '.']"
      ]
     },
     "execution_count": 27,
     "metadata": {},
     "output_type": "execute_result"
    }
   ],
   "source": [
    "stemmed_words=[]\n",
    "for word in token_words:\n",
    "    stemmed_words.append(porter.stem(word))\n",
    "stemmed_words    "
   ]
  },
  {
   "cell_type": "code",
   "execution_count": null,
   "metadata": {},
   "outputs": [],
   "source": []
  },
  {
   "cell_type": "code",
   "execution_count": null,
   "metadata": {},
   "outputs": [],
   "source": []
  }
 ],
 "metadata": {
  "kernelspec": {
   "display_name": "Python 3.9.7 ('base')",
   "language": "python",
   "name": "python3"
  },
  "language_info": {
   "codemirror_mode": {
    "name": "ipython",
    "version": 3
   },
   "file_extension": ".py",
   "mimetype": "text/x-python",
   "name": "python",
   "nbconvert_exporter": "python",
   "pygments_lexer": "ipython3",
   "version": "3.9.7"
  },
  "orig_nbformat": 4,
  "vscode": {
   "interpreter": {
    "hash": "b4ff08fef9982690d6ee8a04378ac9cf6dd61a554303897a8b9d3dde3a4eb03b"
   }
  }
 },
 "nbformat": 4,
 "nbformat_minor": 2
}
