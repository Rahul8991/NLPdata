{
 "cells": [
  {
   "cell_type": "code",
   "execution_count": 30,
   "metadata": {},
   "outputs": [],
   "source": [
    "machine_name=input(\"Enter a name for the machine:\")\n",
    "machine_best_friend_name=input(\"Enter a name for machine's best friend:\")"
   ]
  },
  {
   "cell_type": "code",
   "execution_count": 31,
   "metadata": {},
   "outputs": [
    {
     "data": {
      "text/plain": [
       "'Tiko'"
      ]
     },
     "execution_count": 31,
     "metadata": {},
     "output_type": "execute_result"
    }
   ],
   "source": [
    "machine_name"
   ]
  },
  {
   "cell_type": "code",
   "execution_count": 32,
   "metadata": {},
   "outputs": [],
   "source": [
    "question='Who is your friend?'\n",
    "#answer: 'Hi, I'm Tiko'"
   ]
  },
  {
   "cell_type": "code",
   "execution_count": 33,
   "metadata": {},
   "outputs": [
    {
     "name": "stdout",
     "output_type": "stream",
     "text": [
      "they are asking a question\n",
      "they are asking for a name\n",
      "they are asking about your someone\n"
     ]
    },
    {
     "data": {
      "text/plain": [
       "'My best friend is Miko'"
      ]
     },
     "execution_count": 33,
     "metadata": {},
     "output_type": "execute_result"
    }
   ],
   "source": [
    "if(question[-1]=='?'):\n",
    "    print('they are asking a question')\n",
    "    if(question.split()[0]=='Who'):\n",
    "        print('they are asking for a name')\n",
    "        if('you' in question.split('?')[0].split()):\n",
    "            print('they are asking for your name')\n",
    "            answer=f\"Hi, I'm {machine_name}\"\n",
    "        elif('your' in question.split('?')[0].split()):\n",
    "            print('they are asking about your someone')   #here someone is taken to be best friend\n",
    "            answer=f\"My best friend is {machine_best_friend_name}\"  \n",
    "answer\n"
   ]
  },
  {
   "cell_type": "code",
   "execution_count": 34,
   "metadata": {},
   "outputs": [
    {
     "data": {
      "text/plain": [
       "['Who', 'is', 'your', 'friend']"
      ]
     },
     "execution_count": 34,
     "metadata": {},
     "output_type": "execute_result"
    }
   ],
   "source": [
    "question.split('?')[0].split()"
   ]
  },
  {
   "cell_type": "code",
   "execution_count": null,
   "metadata": {},
   "outputs": [],
   "source": []
  }
 ],
 "metadata": {
  "kernelspec": {
   "display_name": "Python 3.9.7 ('base')",
   "language": "python",
   "name": "python3"
  },
  "language_info": {
   "codemirror_mode": {
    "name": "ipython",
    "version": 3
   },
   "file_extension": ".py",
   "mimetype": "text/x-python",
   "name": "python",
   "nbconvert_exporter": "python",
   "pygments_lexer": "ipython3",
   "version": "3.9.7"
  },
  "orig_nbformat": 4,
  "vscode": {
   "interpreter": {
    "hash": "b4ff08fef9982690d6ee8a04378ac9cf6dd61a554303897a8b9d3dde3a4eb03b"
   }
  }
 },
 "nbformat": 4,
 "nbformat_minor": 2
}
